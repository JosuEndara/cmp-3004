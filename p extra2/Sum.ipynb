{
 "cells": [
  {
   "attachments": {},
   "cell_type": "markdown",
   "metadata": {},
   "source": [
    "PUNTO EXTRA 2"
   ]
  },
  {
   "cell_type": "code",
   "execution_count": null,
   "metadata": {
    "vscode": {
     "languageId": "plaintext"
    }
   },
   "outputs": [],
   "source": [
    ".data\n",
    "    n DB 20         ; numero de elementos\n",
    "    nums times n DB 0   ; arreglo nums que contiene 20 elementos, el cual inicializa con 1\n",
    "    \n",
    ".text\n",
    "\n",
    "    mov eax, 0      ; contador arreglo\n",
    "    mov edx, nums    ; fija a edx en el primer elemento del arreglo\n",
    "    mov ecx, 1      ;para llenar arreglo\n",
    "; llenado de arreglo\n",
    "loop:mov [edx+eax], ecx\n",
    "     inc ecx\n",
    "     inc eax\n",
    "     cmp eax, 20  ;compara el valor de eax con 20\n",
    "     jne loop     ;salto del loop si es igual a 20\n",
    "\n",
    "\n",
    ";inicializa de nuevo variables\n",
    "    mov eax, 0      ; contador\n",
    "    mov ebx, 0      ; fija ebx con 0, ya que contendra el resultado\n",
    "    mov edx, nums    ; fija a edx en el primer elemento del arreglo\n",
    "    mov ecx, 1\n",
    "\n",
    "\n",
    "\n",
    "loop: add ebx, [edx] ; suma al valor de la sumatoria el valor correspondiente al arreglo\n",
    "      mov edx, [edx+1]       ; fija a edx como el siguiente valor del arreglo\n",
    "      inc eax       ;aumenta contador\n",
    "      cmp eax, 20  ;compara el valor de eax con 20\n",
    "      jne loop     ;salto del loop si es igual a 20\n"
   ]
  }
 ],
 "metadata": {
  "kernelspec": {
   "display_name": "Intel",
   "name": "intel"
  },
  "language_info": {
   "name": "python"
  },
  "orig_nbformat": 4
 },
 "nbformat": 4,
 "nbformat_minor": 2
}
