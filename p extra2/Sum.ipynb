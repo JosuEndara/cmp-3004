{
 "cells": [
  {
   "attachments": {},
   "cell_type": "markdown",
   "metadata": {},
   "source": [
    "PUNTO EXTRA 2"
   ]
  },
  {
   "cell_type": "code",
   "execution_count": null,
   "metadata": {
    "vscode": {
     "languageId": "plaintext"
    }
   },
   "outputs": [],
   "source": [
    ".data\n",
    "    n DB 20         ; numero de elementos\n",
    "    nums times n DB 0   ; arreglo nums que contiene 20 elementos, el cual inicializa con 0\n",
    "    \n",
    ".text\n",
    "    mov eax, 0      ; contador\n",
    "    mov ebx, 0      ; fija ebx con 0, ya que contendra\n",
    "    mov edx, nums    ; fija a edx en el primer elemento del arreglo\n",
    "loop: add ebx, [edx] ; suma al valor de la sumatoria el valor correspondiente al arreglo\n",
    "      mov edx, [edx+1]       ; fija a edx como el siguiente valor del arreglo\n",
    "      inc eax       ;aumenta contador\n",
    "      cmp eax, 20  ;compara el valor de eax con 20\n",
    "      jne loop     ;salto del loop si es igual a 20\n"
   ]
  }
 ],
 "metadata": {
  "kernelspec": {
   "display_name": "Intel",
   "name": "intel"
  },
  "language_info": {
   "name": "python"
  },
  "orig_nbformat": 4
 },
 "nbformat": 4,
 "nbformat_minor": 2
}
