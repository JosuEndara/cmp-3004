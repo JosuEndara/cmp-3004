{
 "cells": [
  {
   "cell_type": "markdown",
   "metadata": {},
   "source": [
    "## Organizacion de Computadores\n",
    "### CMP 3004\n",
    "### Homework 2\n",
    "### Sebastian Josue Endara"
   ]
  },
  {
   "cell_type": "markdown",
   "metadata": {},
   "source": [
    "### 1. List and briefly define the possible states that define an instruction execution."
   ]
  },
  {
   "cell_type": "markdown",
   "metadata": {},
   "source": [
    "Los posibles estados se pueden describir de la siguiente forma:\n",
    "\n",
    "    Instruction address calculation (iac): Este determina la direccion de la proxima instruccion a ejecutar. Por lo general,se trata de añadir un número fijo a la dirección de la instrucción anterior. \n",
    "    \n",
    "    Instruction fetch (if): Lee la instruccion desde su posicion de memoria al procesador. \n",
    "    \n",
    "    Instruction operating decoding (iod): Este analiza la instruccion para determinar el tipo de operacion a realizar y el operando a ser utilizado.\n",
    "    \n",
    "    Operand address calculation (oac): Este determina la direccion del operando, al analizar si la operacion implica una referencia a un operando a memoria o via I/O.\n",
    "    \n",
    "    Operand fetch (of): Este obtiene (fetch) el operando de la memoria o la lee via I/O.\n",
    "    \n",
    "    Data operation (do): Este realiza la operacion indicada en la instruccion.\n",
    "    \n",
    "    Operand store (os): Este escribe el resultado en memoria o via I/O.\n",
    "    \n",
    "\n",
    "Anexo: Respuesta referenciada del capitulo 3 del libro de Computer Organization and Architecture: Design for Performance, 9th Edition, William Stallings, Pearson Education, 2013.\n",
    "    \n"
   ]
  },
  {
   "cell_type": "markdown",
   "metadata": {},
   "source": [
    "### 2. What types of transfers must a computer’s interconnection structure (e.g., bus) support?"
   ]
  },
  {
   "cell_type": "markdown",
   "metadata": {},
   "source": [
    "Los tipos de transferencia que debe soportar la estructura de interconexión de un ordenador (por ejemplo, un bus) son los siguientes:\n",
    "\n",
    "    Memory to processor: Implica  que el procesador lea una instruccion de memoria o unidad de datos de la memoria.\n",
    "    \n",
    "    Processor to memory: Implica que el procesador escriba en la memoria.\n",
    "    \n",
    "    I/O to processor: Implica que el procesador lea datos desde un dispositivo I/O a traves de un modulo I/O.\n",
    "    \n",
    "    Processor to I/O: Implica que el procesador envie datos al dispositivo I/O.\n",
    "    \n",
    "    I/O to or from memory: En los dos casos, se tiene que el modulo I/O pueda intercambiar datos directamente con la memoria, sin pasar por medio del procesador sino utilizando acceso directo a memoria.\n",
    "    \n",
    "Ademas, para que una estructura de interconexion como un bus, pueda soportar estos tipos de transferencia hay que entender el concepto de internal bus el cual hace referencia a los distintos tipos de señales que son esenciales para el rendimiento de un procesador.\n",
    "\n",
    "Existen tres tipos de internal bus:\n",
    "\n",
    "    Address bus: Este lleva las señales de dirección emitidas desde el procesador a la memoria principal.\n",
    "    \n",
    "    Data bus: Transporta bytes de instrucciones de la memoria al procesador y del procesador a la memoria para resultados o almacenamiento de datos.\n",
    "    \n",
    "    Control bus: Señal emitida desde el procesador a la memoria u otros dispositivos para leer/escribir o realizar otra función.\n",
    "    \n",
    "   \n",
    "Anexo: Respuesta referenciada del capitulo 3 del libro de Computer Organization and Architecture: Design for Performance, 9th Edition, William Stallings, Pearson Education, 2013 y diapositivas de la clase."
   ]
  },
  {
   "cell_type": "markdown",
   "metadata": {},
   "source": [
    "### 3. Consider a hypothetical 32-bit microprocessor having 32-bit instructions composed of two fields: the first byte contains the opcode and the remainder the immediate operand or an operand address.\n"
   ]
  },
  {
   "cell_type": "markdown",
   "metadata": {},
   "source": [
    "#### a. What is the maximum directly addressable memory capacity (in bytes)?\n",
    "Considerando tener un microprocesador de 32 bits de 32 bits de instrucciones, se plantea que :\n",
    "\n",
    "    El primer bit que contiene el opcode: 1 byte = 8 bits, sera restado de la instruccion de 32 bits, tal que 32-8, dandon como resultado 24 bits restantes que seran utilizados como la direccion de operando, por lo tanto haciendo uso de:\n",
    "    \n",
    "$2^N,$ donde N = 24, tal que $ 2^N = 16.777.216$   bytes $ = 16 MB$\n",
    "\n",
    "    Da como resultado que la capacidad maxima de memoria de direccionamiento directo es de 16.777.216 bytes."
   ]
  },
  {
   "cell_type": "markdown",
   "metadata": {},
   "source": [
    "####  b. Discuss the impact on the system speed if the microprocessor bus has:\n",
    "\n",
    "    1. 32-bit local address bus and a 16-bit local data bus:\n",
    "    \n",
    "    En este caso la velocidad del sistema si se veria afectada al ser ralentizada debido al data bus. Ya que las transferencias de instruccion y datos tomarian tres ciclos de bus, 1 ciclo para la transferencia del address bus, y 2 ciclos para el local data bus que es de 16 bit cada uno, por lo tanto, es necesario realizar dos ciclos para obtener la instruccion u operando de 32 bits y completar la transferencia.\n",
    "\n",
    "    2. 16-bit local address bus and a 16-bit local data bus.\n",
    "    \n",
    "    En este caso la velocidad del sistema tambien se veria afectada al ser ralentizada en mayor medida a diferencia del anterior. Ya que la transeferencia de instruccion y datos tomaria de cuatro ciclos de bus, 2 ciclos para transferencia del address bus, y 2 ciclos para el local data bus. "
   ]
  },
  {
   "cell_type": "markdown",
   "metadata": {},
   "source": [
    "#### c. How many bits are needed for the program counter and the instruction register?\n",
    "\n",
    "    Como se tiene un microprocesador de instrucciones de 32 bits, el PC (Program counter) ocupa 24 bits para almacenar la direccion de memoria, debido a que se tiene un opcode de 8 bits. En cambio, el IR (Instruction Register) ocupa de 32 bits para almacenar la instrucción completa."
   ]
  },
  {
   "cell_type": "markdown",
   "metadata": {},
   "source": [
    "### 4. A microprocessor is clocked at a rate of 5 GHz.\n",
    "\n",
    "\n"
   ]
  },
  {
   "cell_type": "markdown",
   "metadata": {},
   "source": [
    "#### a. How long is a clock cycle?\n",
    "\n",
    "    Como se tiene un microprocesador que tiene una frecuencia de 5 GHZ, lo cual indica 5 mil millones de ciclos por segundo. Cada periodo para completar un ciclo se calcula de la siguientes manera:\n",
    "\n",
    "$T = 1/f$\n",
    "\n",
    "    Donde T es el periodo y f es la frecuencia en este caso 5 GHZ. Por lo tanto, se procede a reemplazar en la ecuacion.\n",
    "    \n",
    "$T = 1 / (5 * 10^9)$\n",
    "\n",
    "$T = 0.0000000002$ segundos ->  Pasando a nanosegundos -> $ T= 0.2$ nanosegundos para completar un ciclo."
   ]
  },
  {
   "cell_type": "markdown",
   "metadata": {},
   "source": [
    "#### b. What is the duration of a particular type of machine instruction consisting of three clock cycles?\n",
    "\n",
    "    Como ya se tiene la duracion para completar un ciclo, y se quieres saber cuanto demora una instruccion en particular que consiste en 3 ciclos, se procede a realizar lo siguiente:\n",
    "    \n",
    "$Instruction_.duration = 3 * T $  ->  $Instruction_.duration = 3 * 0.2 $ nanosegundos \n",
    "\n",
    "$Instruction_.duration = 0.6 $ nanosegundos."
   ]
  },
  {
   "cell_type": "markdown",
   "metadata": {},
   "source": [
    "### 5. Suppose you wish to run a program P with $7.5 \\times 10^9$ instructions on a 5 GHz machine with a CPI of 0.8."
   ]
  },
  {
   "cell_type": "markdown",
   "metadata": {},
   "source": [
    "#### a. What is the expected CPU time?\n",
    "\n",
    "Considerando al program P con \n",
    "$7.5 \\times 10^9$ instrucciones y una frecuencia de 5 GHZ -> $5*10^9 $, y un CPI = 0.8.\n",
    "\n",
    "Se hace uso de la siguiente ecuacion, la cual permite obtener el CPU time:\n",
    "    \n",
    "$CPU\\ TIME =\\frac{Instruction\\ count\\ *\\ CPI}{Clock\\ rate}$\n",
    "\n",
    "$CPU\\ TIME =\\frac{7.5 \\times 10^9\\ *\\ 0.8}{5*10^9} = 1.2\\ segundos $"
   ]
  },
  {
   "cell_type": "markdown",
   "metadata": {},
   "source": [
    "#### b. When you run P, it takes 3 seconds of wall clock time to complete. What is the percentage of the CPU time P received?\n",
    "\n",
    "Haciendo uso de la siguiente formula:\n",
    "\n",
    "$PERCENTAGE\\ CPU\\ TIME =\\frac{CPU\\ TIME}{Wall\\ clock\\ time}$\n",
    "\n",
    "$PERCENTAGE\\ CPU\\ TIME =\\frac{1.2}{3} = 0.4 * $ 100 % = 40 %\n"
   ]
  },
  {
   "cell_type": "markdown",
   "metadata": {},
   "source": [
    "### 6. A nonpipelined processor has a clock rate of 2.5 GHz and an average CPI (cycles per instruction) of 4. An upgrade to the processor introduces a five-stage pipeline. However, due to internal pipeline delays, such as latch delay, the clock rate of the new processor has to be reduced to 2 GHz. What is the speedup achieved for a typical program?"
   ]
  },
  {
   "cell_type": "markdown",
   "metadata": {},
   "source": [
    "La aceleracion (speedup) esta definida por la siguiente ecuacion:\n",
    "$Speedup =\\frac{Old\\ Execution\\ time}{New\\ Execution\\ time}$\n",
    "\n",
    "Ademas,cada Execution Time es calculado por la mutiplacion del CPI * Clock cycle, tal que:\n",
    "\n",
    "$Execution\\ Time = CPI * T(Periodo\\ para\\ completar\\ un\\ ciclo)$\n",
    "\n",
    "$Execution\\ Time = CPI * 1/f(Clock\\ rate)$\n",
    "\n",
    "Por lo tanto, con estas ecuaciones ya podemos calcular lo necesario para obtener el speedup alcanzado.\n",
    "\n",
    "Primero, se calcula el Execution time del procesador con clock rate de 2.5 GHZ y CPI de 4 (Antiguo), entonces:\n",
    "\n",
    "$Old\\ Execution\\ Time = CPI * 1/f(Clock\\ rate)$\n",
    "\n",
    "$Old\\ Execution\\ Time = 4 * 1/(2.5*10^9) = 1.6\\ nanosegundos$\n",
    "\n",
    "A continuacion, se calcula el Execution time del procesador mejorado con clock rate de 2 GHZ, y se asume un CPI de 1 (Nuevo), entonces:\n",
    "\n",
    "$New\\ Execution\\ Time = CPI * 1/f(Clock\\ rate)$\n",
    "\n",
    "$New\\ Execution\\ Time = 1 * 1/(2*10^9) = 0.5\\ nanosegundos$\n",
    "\n",
    "Por utlimo, ya con ambos Execution Time se procese a calcular el speedup alcanzado:\n",
    "\n",
    "$Speedup =\\frac{1.6}{0.5} = 3.2$\n"
   ]
  }
 ],
 "metadata": {
  "kernelspec": {
   "display_name": "Python 3",
   "language": "python",
   "name": "python3"
  },
  "language_info": {
   "codemirror_mode": {
    "name": "ipython",
    "version": 3
   },
   "file_extension": ".py",
   "mimetype": "text/x-python",
   "name": "python",
   "nbconvert_exporter": "python",
   "pygments_lexer": "ipython3",
   "version": "3.8.3"
  }
 },
 "nbformat": 4,
 "nbformat_minor": 4
}
